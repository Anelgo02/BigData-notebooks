{
 "cells": [
  {
   "cell_type": "markdown",
   "id": "07cdc3dc-c789-4c82-92a3-895132a54425",
   "metadata": {},
   "source": [
    "# Esercizio 1 — Liste e Dizionari (Capitoli 5–6)\n",
    "**Obiettivo:** comprendere l’uso delle principali strutture dati di Python  \n",
    "**Argomenti:** liste, tuple, dizionari, set  \n",
    "**File:** 01_liste_e_dizionari.ipynb\n"
   ]
  },
  {
   "cell_type": "code",
   "execution_count": 4,
   "id": "2dde549a-e5bf-4dca-abb6-0b3b7d25c7bb",
   "metadata": {
    "collapsed": true,
    "jupyter": {
     "outputs_hidden": true,
     "source_hidden": true
    }
   },
   "outputs": [
    {
     "name": "stdout",
     "output_type": "stream",
     "text": [
      "Lista degli studenti: ['Anna', 'Marco', 'Luca', 'Angelo']\n",
      "Numero degli studenti: 4\n",
      "Primo studente: Anna\n",
      "Ultimi due studenti ['Luca', 'Angelo']\n"
     ]
    }
   ],
   "source": [
    "#Creo una lista di studenti\n",
    "studenti = [\"Anna\", \"Marco\",\"Luca\",\"Angelo\"]\n",
    "\n",
    "#Visualizziamo il contenuto e la lunghezza\n",
    "print(\"Lista degli studenti:\", studenti)\n",
    "print(f\"Numero degli studenti: {len(studenti)}\")\n",
    "\n",
    "#Accesso agli elementi\n",
    "print(f\"Primo studente: {studenti[0]}\")\n",
    "print(f\"Ultimi due studenti {studenti[-2:]}\") #utilizzo dello slicing\n",
    "\n"
   ]
  },
  {
   "cell_type": "code",
   "execution_count": 5,
   "id": "9cee7c7c-435b-479f-9837-a9a033c5e261",
   "metadata": {
    "collapsed": true,
    "jupyter": {
     "outputs_hidden": true,
     "source_hidden": true
    }
   },
   "outputs": [
    {
     "name": "stdout",
     "output_type": "stream",
     "text": [
      "Lista aggiornata: ['Marco', 'Giulia', 'Luca', 'Angelo', 'Paolo']\n",
      "1) Marco\n",
      "2) Giulia\n",
      "3) Luca\n",
      "4) Angelo\n",
      "5) Paolo\n"
     ]
    }
   ],
   "source": [
    "# Aggiungere e rimuovere elementi\n",
    "studenti.append(\"Paolo\")      # aggiunge in fondo\n",
    "studenti.insert(2, \"Giulia\")  # inserisce in posizione 2\n",
    "studenti.remove(\"Anna\")       # rimuove un elemento\n",
    "\n",
    "print(\"Lista aggiornata:\", studenti)\n",
    "\n",
    "# Iterare con indice\n",
    "for i, nome in enumerate(studenti): #utilizzo di enumerate (fornisce indice e elemento)\n",
    "    print(f\"{i+1}) {nome}\")\n"
   ]
  },
  {
   "cell_type": "code",
   "execution_count": 6,
   "id": "51ac40e1-94d2-4a59-b13c-8e9e6d34dde0",
   "metadata": {
    "collapsed": true,
    "jupyter": {
     "outputs_hidden": true,
     "source_hidden": true
    }
   },
   "outputs": [
    {
     "name": "stdout",
     "output_type": "stream",
     "text": [
      "Lista: [5, 12, 7, 3, 9, 12, 3]\n",
      "Somma: 51\n",
      "Valore massimo: 12\n",
      "Numero di volte che compare 3: 2\n",
      "Lista ordinata: [3, 3, 5, 7, 9, 12, 12]\n"
     ]
    }
   ],
   "source": [
    "#Liste numeriche e operazioni\n",
    "numeri = [5, 12, 7, 3, 9, 12, 3]\n",
    "\n",
    "print(\"Lista:\", numeri)\n",
    "print(\"Somma:\", sum(numeri))\n",
    "print(\"Valore massimo:\", max(numeri))\n",
    "print(\"Numero di volte che compare 3:\", numeri.count(3))\n",
    "\n",
    "# Ordinamento\n",
    "print(\"Lista ordinata:\", sorted(numeri))\n"
   ]
  },
  {
   "cell_type": "code",
   "execution_count": 7,
   "id": "cc78f3c5-cd85-462d-ac12-ae6dc538a56f",
   "metadata": {
    "collapsed": true,
    "jupyter": {
     "outputs_hidden": true,
     "source_hidden": true
    }
   },
   "outputs": [
    {
     "name": "stdout",
     "output_type": "stream",
     "text": [
      "Coordinate: (42.0, 13.5)\n",
      "Latitudine: 42.0\n",
      "Longitudine: 13.5\n"
     ]
    }
   ],
   "source": [
    "#Tuple(Dati immutabili)\n",
    "coordinate = (42.0, 13.5)\n",
    "print(\"Coordinate:\", coordinate)\n",
    "\n",
    "# Accesso per indice\n",
    "print(\"Latitudine:\", coordinate[0])\n",
    "print(\"Longitudine:\", coordinate[1])\n"
   ]
  },
  {
   "cell_type": "code",
   "execution_count": 9,
   "id": "34abf4d3-0611-4009-91df-2d3ccc616646",
   "metadata": {
    "collapsed": true,
    "editable": true,
    "jupyter": {
     "outputs_hidden": true,
     "source_hidden": true
    },
    "slideshow": {
     "slide_type": ""
    },
    "tags": []
   },
   "outputs": [
    {
     "name": "stdout",
     "output_type": "stream",
     "text": [
      "Età di Marco: 21\n",
      "Luca ha 22 anni\n",
      "Marco ha 21 anni\n",
      "Giulia ha 20 anni\n",
      "Sara ha 23 anni\n"
     ]
    }
   ],
   "source": [
    "#Dizionari(Chiave --> Valore)\n",
    "studenti_eta = {\n",
    "    \"Luca\": 22,\n",
    "    \"Marco\": 21,\n",
    "    \"Giulia\": 20\n",
    "}\n",
    "\n",
    "# Accesso e modifica\n",
    "print(\"Età di Marco:\", studenti_eta[\"Marco\"])\n",
    "studenti_eta[\"Sara\"] = 23\n",
    "\n",
    "# Iterazione chiave-valore\n",
    "for nome, eta in studenti_eta.items():\n",
    "    print(f\"{nome} ha {eta} anni\")\n",
    "\n"
   ]
  },
  {
   "cell_type": "markdown",
   "id": "6811a42e-88fb-4651-b244-a00afe7f80f4",
   "metadata": {},
   "source": [
    "# Metodi utili dei dizionari"
   ]
  },
  {
   "cell_type": "code",
   "execution_count": 10,
   "id": "5925478c-cc35-4adf-bec8-cbaad50e45a0",
   "metadata": {
    "collapsed": true,
    "jupyter": {
     "outputs_hidden": true,
     "source_hidden": true
    }
   },
   "outputs": [
    {
     "name": "stdout",
     "output_type": "stream",
     "text": [
      "Chiavi: ['Luca', 'Marco', 'Giulia', 'Sara']\n",
      "Valori: [22, 21, 20, 23]\n",
      "Dopo update: {'Luca': 22, 'Marco': 21, 'Giulia': 20, 'Sara': 23, 'Paolo': 24}\n"
     ]
    }
   ],
   "source": [
    "print(\"Chiavi:\", list(studenti_eta.keys()))\n",
    "print(\"Valori:\", list(studenti_eta.values()))\n",
    "\n",
    "# Aggiornamento\n",
    "studenti_eta.update({\"Paolo\": 24})\n",
    "print(\"Dopo update:\", studenti_eta)\n"
   ]
  },
  {
   "cell_type": "markdown",
   "id": "a7377e37-a5c3-448e-9f83-eb896ea56294",
   "metadata": {},
   "source": [
    "# 🧠 STEP 9 — Mini esercizio pratico\n",
    "\n",
    "\n",
    "\n",
    "### 1)Creare un dizionario con studenti e i loro voti.\n",
    "### 2)Calcolare la media dei voti.\n",
    "### 3)Stampare solo i nomi degli studenti con voto > media."
   ]
  },
  {
   "cell_type": "code",
   "execution_count": 11,
   "id": "fd4657d3-a92d-4c21-8be4-7991c385c36e",
   "metadata": {
    "collapsed": true,
    "jupyter": {
     "outputs_hidden": true
    },
    "scrolled": true
   },
   "outputs": [
    {
     "name": "stdout",
     "output_type": "stream",
     "text": [
      "La media dei voti di tutti gli studenti e': 25.0\n",
      "Gli studenti con voti superiori alla media sono:\n",
      "Giuseppe, con votazione 28\n",
      "Miriam, con votazione 30\n"
     ]
    }
   ],
   "source": [
    "#Creo il dizionario\n",
    "voti = {\n",
    "    \"Giuseppe\" : 28, \"Luca\" : 20, \"Angelo\" : 22, \"Miriam\" : 30\n",
    "}\n",
    "\n",
    "media = sum(voti.values())/len(voti)\n",
    "print(\"La media dei voti di tutti gli studenti e':\", media)\n",
    "\n",
    "print(\"Gli studenti con voti superiori alla media sono:\")\n",
    "for nome,voto in voti.items():\n",
    "    if voto >= media:\n",
    "        print(f\"{nome}, con votazione {voto}\")"
   ]
  },
  {
   "cell_type": "markdown",
   "id": "7cf321fe-f078-48c4-9803-713826e46766",
   "metadata": {},
   "source": [
    "### Conclusione\n",
    "- Le **liste** sono collezioni ordinate e modificabili.  \n",
    "- Le **tuple** sono simili ma **immutabili**.  \n",
    "- I **dizionari** associano chiavi a valori (struttura chiave→valore).  \n",
    "- I **set** contengono solo elementi **unici** e supportano operazioni insiemistiche.\n",
    "\n",
    "Queste strutture saranno fondamentali nei prossimi capitoli per rappresentare dataset e fare pre-processing dei dati.\n"
   ]
  },
  {
   "cell_type": "code",
   "execution_count": null,
   "id": "9cd8b236-682e-4c79-bbde-416739246183",
   "metadata": {},
   "outputs": [],
   "source": []
  }
 ],
 "metadata": {
  "kernelspec": {
   "display_name": "Python 3 (ipykernel)",
   "language": "python",
   "name": "python3"
  },
  "language_info": {
   "codemirror_mode": {
    "name": "ipython",
    "version": 3
   },
   "file_extension": ".py",
   "mimetype": "text/x-python",
   "name": "python",
   "nbconvert_exporter": "python",
   "pygments_lexer": "ipython3",
   "version": "3.11.13"
  }
 },
 "nbformat": 4,
 "nbformat_minor": 5
}
