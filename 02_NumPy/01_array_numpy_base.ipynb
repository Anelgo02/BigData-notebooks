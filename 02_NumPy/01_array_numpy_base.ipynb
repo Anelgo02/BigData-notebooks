{
 "cells": [
  {
   "cell_type": "markdown",
   "id": "c441e5f4-3f5e-4de4-9891-756a64989471",
   "metadata": {
    "editable": true,
    "slideshow": {
     "slide_type": ""
    },
    "tags": []
   },
   "source": [
    "# Esercizio 1 — Fondamenti di NumPy\n",
    "\n",
    "**Obiettivo:** comprendere la struttura e le principali operazioni sugli array NumPy.  \n",
    "Questo notebook introduce la creazione, l'indicizzazione, lo slicing e le operazioni matematiche di base.\n"
   ]
  },
  {
   "cell_type": "markdown",
   "id": "1d2928b3-e63b-4416-b484-2c9c523ee6a5",
   "metadata": {},
   "source": [
    "### Vantaggi degli array NumPy rispetto alle liste Python\n",
    "\n",
    "| Aspetto | Liste Python | Array NumPy |\n",
    "|----------|---------------|-------------|\n",
    "| **Tipo di dati** | Possono contenere tipi diversi | Tutti dello stesso tipo (più efficienti) |\n",
    "| **Velocità** | Operazioni lente (interprete Python) | Operazioni vettoriali in C (molto più veloci) |\n",
    "| **Memoria** | Struttura flessibile ma pesante | Struttura compatta e ottimizzata |\n",
    "| **Operazioni matematiche** | Richiedono cicli `for` | Operano su interi array senza cicli |\n",
    "| **Funzionalità avanzate** | Limitate | Broadcasting, funzioni statistiche, slicing avanzato |\n",
    "\n",
    "➡️ **In sintesi:** gli array NumPy sono più veloci, leggeri e pratici per l’elaborazione numerica e scientifica.\n"
   ]
  },
  {
   "cell_type": "code",
   "execution_count": 2,
   "id": "b1ff7ff6-5457-4944-9d65-b517ed29fb71",
   "metadata": {},
   "outputs": [
    {
     "name": "stdout",
     "output_type": "stream",
     "text": [
      "Libreria NumPy caricata correttamente!\n"
     ]
    }
   ],
   "source": [
    "#importare la libreria\n",
    "import numpy as np\n",
    "print(\"Libreria NumPy caricata correttamente!\")"
   ]
  },
  {
   "cell_type": "code",
   "execution_count": 4,
   "id": "2f6d3e77-0191-4fe6-bf61-34aa88ca8cef",
   "metadata": {
    "collapsed": true,
    "jupyter": {
     "outputs_hidden": true
    },
    "scrolled": true
   },
   "outputs": [
    {
     "name": "stdout",
     "output_type": "stream",
     "text": [
      "Array a: [1 2 3 4 5]\n",
      "\n",
      "Array b:\n",
      " [[1 2 3]\n",
      " [4 5 6]]\n",
      "\n",
      "Array di zeri:\n",
      " [[0. 0. 0.]\n",
      " [0. 0. 0.]]\n",
      "\n",
      "Array di uno:\n",
      " [[1. 1. 1.]\n",
      " [1. 1. 1.]]\n",
      "\n",
      "Array casuale:\n",
      " [[0 9 8]\n",
      " [1 6 5]]\n"
     ]
    }
   ],
   "source": [
    "#Creazione degli array numpy\n",
    "# Array 1D (monodimensionale)\n",
    "a = np.array([1, 2, 3, 4, 5])\n",
    "print(\"Array a:\", a)\n",
    "\n",
    "# Array 2D (matrice)\n",
    "b = np.array([[1, 2, 3], [4, 5, 6]])\n",
    "print(\"\\nArray b:\\n\", b)\n",
    "\n",
    "# Array di zeri, uno e numeri casuali\n",
    "zeros = np.zeros((2,3))\n",
    "ones = np.ones((2,3))\n",
    "randoms = np.random.randint(0, 10, (2,3))\n",
    "\n",
    "print(\"\\nArray di zeri:\\n\", zeros)\n",
    "print(\"\\nArray di uno:\\n\", ones)\n",
    "print(\"\\nArray casuale:\\n\", randoms)\n"
   ]
  },
  {
   "cell_type": "code",
   "execution_count": 5,
   "id": "92308cc4-175f-444d-a9fd-2c4dd3cd4fd7",
   "metadata": {
    "collapsed": true,
    "jupyter": {
     "outputs_hidden": true
    }
   },
   "outputs": [
    {
     "name": "stdout",
     "output_type": "stream",
     "text": [
      "Forma di b: (2, 3)\n",
      "Dimensioni: 2\n",
      "Tipo di dato: int64\n",
      "Numero di elementi: 6\n"
     ]
    }
   ],
   "source": [
    "#Attributi principali di un array\n",
    "print(\"Forma di b:\", b.shape)\n",
    "print(\"Dimensioni:\", b.ndim)\n",
    "print(\"Tipo di dato:\", b.dtype)\n",
    "print(\"Numero di elementi:\", b.size)\n"
   ]
  },
  {
   "cell_type": "code",
   "execution_count": 6,
   "id": "1b58c5d7-74d2-4d3d-8e19-b8a04c69ae3b",
   "metadata": {
    "collapsed": true,
    "jupyter": {
     "outputs_hidden": true
    },
    "scrolled": true
   },
   "outputs": [
    {
     "name": "stdout",
     "output_type": "stream",
     "text": [
      "Elemento b[0, 1]: 2\n",
      "Prima riga di b: [1 2 3]\n",
      "Seconda colonna di b: [2 5]\n",
      "Sottosezione di b:\n",
      " [[2 3]\n",
      " [5 6]]\n"
     ]
    }
   ],
   "source": [
    "#Indicizzazione e slicing\n",
    "\n",
    "print(\"Elemento b[0, 1]:\", b[0, 1])\n",
    "print(\"Prima riga di b:\", b[0])\n",
    "print(\"Seconda colonna di b:\", b[:, 1])\n",
    "print(\"Sottosezione di b:\\n\", b[0:2, 1:3])\n"
   ]
  },
  {
   "cell_type": "code",
   "execution_count": 7,
   "id": "089e4705-8497-4372-9940-4a4de7dddbeb",
   "metadata": {
    "collapsed": true,
    "jupyter": {
     "outputs_hidden": true
    }
   },
   "outputs": [
    {
     "name": "stdout",
     "output_type": "stream",
     "text": [
      "Somma: [11 22 33 44]\n",
      "Differenza: [ 9 18 27 36]\n",
      "Moltiplicazione: [ 10  40  90 160]\n",
      "Divisione: [10. 10. 10. 10.]\n",
      "Quadrato: [ 100  400  900 1600]\n",
      "Radice: [3.16227766 4.47213595 5.47722558 6.32455532]\n"
     ]
    }
   ],
   "source": [
    "#Operazioni matematiche\n",
    "x = np.array([10, 20, 30, 40])\n",
    "y = np.array([1, 2, 3, 4])\n",
    "\n",
    "print(\"Somma:\", x + y)\n",
    "print(\"Differenza:\", x - y)\n",
    "print(\"Moltiplicazione:\", x * y)\n",
    "print(\"Divisione:\", x / y)\n",
    "print(\"Quadrato:\", np.square(x))\n",
    "print(\"Radice:\", np.sqrt(x))\n"
   ]
  },
  {
   "cell_type": "code",
   "execution_count": 10,
   "id": "a7e65fc6-68e7-40c3-9e57-d0265945cc71",
   "metadata": {
    "collapsed": true,
    "jupyter": {
     "outputs_hidden": true
    }
   },
   "outputs": [
    {
     "name": "stdout",
     "output_type": "stream",
     "text": [
      "Media di x: 25.0\n",
      "Varianza di x: 125.0\n",
      "Deviazione standard: 11.18\n",
      "Massimo: 40\n",
      "Minimo: 10\n",
      "Somma totale: 100\n"
     ]
    }
   ],
   "source": [
    "#Funzioni statistiche\n",
    "print(\"Media di x:\", np.mean(x))\n",
    "print(\"Varianza di x:\", np.var(x))\n",
    "print(f\"Deviazione standard: {np.std(x):.2f}\")\n",
    "print(\"Massimo:\", np.max(x))\n",
    "print(\"Minimo:\", np.min(x))\n",
    "print(\"Somma totale:\", np.sum(x))\n"
   ]
  },
  {
   "cell_type": "code",
   "execution_count": 11,
   "id": "54fd1c19-4465-4c97-8211-09ab4b724c95",
   "metadata": {
    "collapsed": true,
    "jupyter": {
     "outputs_hidden": true
    }
   },
   "outputs": [
    {
     "name": "stdout",
     "output_type": "stream",
     "text": [
      "Matrice originale:\n",
      " [[1 2 3]\n",
      " [4 5 6]\n",
      " [7 8 9]]\n",
      "Vettore:\n",
      " [10 20 30]\n",
      "Risultato dopo broadcasting:\n",
      " [[11 22 33]\n",
      " [14 25 36]\n",
      " [17 28 39]]\n"
     ]
    }
   ],
   "source": [
    "#BROADCASTING\n",
    "# Broadcasting: operazioni tra array di forme diverse\n",
    "matrice = np.array([[1,2,3], [4,5,6], [7,8,9]])\n",
    "vettore = np.array([10, 20, 30])\n",
    "\n",
    "risultato = matrice + vettore\n",
    "print(\"Matrice originale:\\n\", matrice)\n",
    "print(\"Vettore:\\n\", vettore)\n",
    "print(\"Risultato dopo broadcasting:\\n\", risultato)\n"
   ]
  },
  {
   "cell_type": "code",
   "execution_count": 15,
   "id": "f1b0051e-43a3-4b49-9109-7c073220e9fa",
   "metadata": {
    "collapsed": true,
    "jupyter": {
     "outputs_hidden": true
    },
    "scrolled": true
   },
   "outputs": [
    {
     "name": "stdout",
     "output_type": "stream",
     "text": [
      "Valori originali: [1 6 4 5 8 8 7 4 7 6 1 6 7 0 3 7 2 1 5 5 1 9 3 2 5 1 2 7 9 6 2 9 7 4 0 9 8\n",
      " 8 5 2 3 7 6 4 7 0 5 7 4 7 7 6 5 5 7 8 8 8 7 6 6 6 9 1 1 0 1 4 2 2 8 0 8 1\n",
      " 7 9 3 3 5 7 8 0 0 4 3 6 0 4 3 4 0 4 9 7 8 9 8 8 0 3]\n",
      "Valori normalizzati (0-3): [-1.33189931  0.42059978 -0.28039985  0.07009996  1.12159942  1.12159942\n",
      "  0.7710996  -0.28039985  0.7710996   0.42059978 -1.33189931  0.42059978\n",
      "  0.7710996  -1.68239913 -0.63089967  0.7710996  -0.98139949 -1.33189931\n",
      "  0.07009996  0.07009996 -1.33189931  1.47209924 -0.63089967 -0.98139949\n",
      "  0.07009996 -1.33189931 -0.98139949  0.7710996   1.47209924  0.42059978\n",
      " -0.98139949  1.47209924  0.7710996  -0.28039985 -1.68239913  1.47209924\n",
      "  1.12159942  1.12159942  0.07009996 -0.98139949 -0.63089967  0.7710996\n",
      "  0.42059978 -0.28039985  0.7710996  -1.68239913  0.07009996  0.7710996\n",
      " -0.28039985  0.7710996   0.7710996   0.42059978  0.07009996  0.07009996\n",
      "  0.7710996   1.12159942  1.12159942  1.12159942  0.7710996   0.42059978\n",
      "  0.42059978  0.42059978  1.47209924 -1.33189931 -1.33189931 -1.68239913\n",
      " -1.33189931 -0.28039985 -0.98139949 -0.98139949  1.12159942 -1.68239913\n",
      "  1.12159942 -1.33189931  0.7710996   1.47209924 -0.63089967 -0.63089967\n",
      "  0.07009996  0.7710996   1.12159942 -1.68239913 -1.68239913 -0.28039985\n",
      " -0.63089967  0.42059978 -1.68239913 -0.28039985 -0.63089967 -0.28039985\n",
      " -1.68239913 -0.28039985  1.47209924  0.7710996   1.12159942  1.47209924\n",
      "  1.12159942  1.12159942 -1.68239913 -0.63089967]\n"
     ]
    }
   ],
   "source": [
    "#Facciamo un breve esempio di normalizzazione di un vettore\n",
    "valori = np.random.randint(0,10,100)\n",
    "print(\"Valori originali:\", valori)\n",
    "\n",
    "valori_norm = (valori - np.mean(valori))/ np.std(valori)\n",
    "print(\"Valori normalizzati (0-3):\", valori_norm)"
   ]
  },
  {
   "cell_type": "markdown",
   "id": "317b3b8a-3eec-46cd-89bc-dcfdd655d6c2",
   "metadata": {},
   "source": [
    "### Conclusione\n",
    "In questo notebook abbiamo imparato:\n",
    "- la creazione e manipolazione di array NumPy (1D e 2D),\n",
    "- le operazioni matematiche e statistiche più comuni,\n",
    "- il concetto di *broadcasting*,\n",
    "- una prima applicazione di normalizzazione dei dati.\n",
    "\n",
    "Questo rappresenta la base per passare al prossimo notebook dedicato al *Data Preprocessing*.\n"
   ]
  },
  {
   "cell_type": "code",
   "execution_count": null,
   "id": "f7d525c0-55a4-4675-ba6b-1cb8ec056289",
   "metadata": {},
   "outputs": [],
   "source": []
  }
 ],
 "metadata": {
  "kernelspec": {
   "display_name": "Python 3 (ipykernel)",
   "language": "python",
   "name": "python3"
  },
  "language_info": {
   "codemirror_mode": {
    "name": "ipython",
    "version": 3
   },
   "file_extension": ".py",
   "mimetype": "text/x-python",
   "name": "python",
   "nbconvert_exporter": "python",
   "pygments_lexer": "ipython3",
   "version": "3.11.13"
  }
 },
 "nbformat": 4,
 "nbformat_minor": 5
}
