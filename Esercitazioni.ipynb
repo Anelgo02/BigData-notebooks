{
 "cells": [
  {
   "cell_type": "markdown",
   "metadata": {
    "id": "y8e4jd1lMbdD"
   },
   "source": [
    "# Esercitazione 1 - richiami di Python\n",
    "\n",
    "### Esercizi tratti dal libro \"Introduzione a Python. Per l'informatica e la data science\", 2021, Paul J. Deitel & Harvey M. Deitel, Pearson, ISBN 978-8891915924"
   ]
  },
  {
   "cell_type": "markdown",
   "metadata": {
    "id": "xJ6gp4F5MXSw"
   },
   "source": [
    "4.9 (Degrees to Radians) Implement a radians function that returns the radian equivalent of a degree. Use the following formula:\n",
    "        rad = degrees * pi/180\n",
    "Use this function to print a chart showing the radian equivalent of all degrees ranging from 1° to 180°. Use two digits of precision for the results. Print the outputs in a neat tabular format."
   ]
  },
  {
   "cell_type": "code",
   "execution_count": 14,
   "metadata": {
    "collapsed": true,
    "id": "iFPcVWwSMhRB",
    "jupyter": {
     "outputs_hidden": true
    }
   },
   "outputs": [
    {
     "name": "stdout",
     "output_type": "stream",
     "text": [
      "Degrees      Radians\n",
      "--------------------\n",
      "1               0.02\n",
      "2               0.03\n",
      "3               0.05\n",
      "4               0.07\n",
      "5               0.09\n",
      "6               0.10\n",
      "7               0.12\n",
      "8               0.14\n",
      "9               0.16\n",
      "10              0.17\n",
      "11              0.19\n",
      "12              0.21\n",
      "13              0.23\n",
      "14              0.24\n",
      "15              0.26\n",
      "16              0.28\n",
      "17              0.30\n",
      "18              0.31\n",
      "19              0.33\n",
      "20              0.35\n",
      "21              0.37\n",
      "22              0.38\n",
      "23              0.40\n",
      "24              0.42\n",
      "25              0.44\n",
      "26              0.45\n",
      "27              0.47\n",
      "28              0.49\n",
      "29              0.51\n",
      "30              0.52\n",
      "31              0.54\n",
      "32              0.56\n",
      "33              0.58\n",
      "34              0.59\n",
      "35              0.61\n",
      "36              0.63\n",
      "37              0.65\n",
      "38              0.66\n",
      "39              0.68\n",
      "40              0.70\n",
      "41              0.72\n",
      "42              0.73\n",
      "43              0.75\n",
      "44              0.77\n",
      "45              0.79\n",
      "46              0.80\n",
      "47              0.82\n",
      "48              0.84\n",
      "49              0.86\n",
      "50              0.87\n",
      "51              0.89\n",
      "52              0.91\n",
      "53              0.93\n",
      "54              0.94\n",
      "55              0.96\n",
      "56              0.98\n",
      "57              0.99\n",
      "58              1.01\n",
      "59              1.03\n",
      "60              1.05\n",
      "61              1.06\n",
      "62              1.08\n",
      "63              1.10\n",
      "64              1.12\n",
      "65              1.13\n",
      "66              1.15\n",
      "67              1.17\n",
      "68              1.19\n",
      "69              1.20\n",
      "70              1.22\n",
      "71              1.24\n",
      "72              1.26\n",
      "73              1.27\n",
      "74              1.29\n",
      "75              1.31\n",
      "76              1.33\n",
      "77              1.34\n",
      "78              1.36\n",
      "79              1.38\n",
      "80              1.40\n",
      "81              1.41\n",
      "82              1.43\n",
      "83              1.45\n",
      "84              1.47\n",
      "85              1.48\n",
      "86              1.50\n",
      "87              1.52\n",
      "88              1.54\n",
      "89              1.55\n",
      "90              1.57\n",
      "91              1.59\n",
      "92              1.61\n",
      "93              1.62\n",
      "94              1.64\n",
      "95              1.66\n",
      "96              1.68\n",
      "97              1.69\n",
      "98              1.71\n",
      "99              1.73\n",
      "100             1.75\n",
      "101             1.76\n",
      "102             1.78\n",
      "103             1.80\n",
      "104             1.82\n",
      "105             1.83\n",
      "106             1.85\n",
      "107             1.87\n",
      "108             1.88\n",
      "109             1.90\n",
      "110             1.92\n",
      "111             1.94\n",
      "112             1.95\n",
      "113             1.97\n",
      "114             1.99\n",
      "115             2.01\n",
      "116             2.02\n",
      "117             2.04\n",
      "118             2.06\n",
      "119             2.08\n",
      "120             2.09\n",
      "121             2.11\n",
      "122             2.13\n",
      "123             2.15\n",
      "124             2.16\n",
      "125             2.18\n",
      "126             2.20\n",
      "127             2.22\n",
      "128             2.23\n",
      "129             2.25\n",
      "130             2.27\n",
      "131             2.29\n",
      "132             2.30\n",
      "133             2.32\n",
      "134             2.34\n",
      "135             2.36\n",
      "136             2.37\n",
      "137             2.39\n",
      "138             2.41\n",
      "139             2.43\n",
      "140             2.44\n",
      "141             2.46\n",
      "142             2.48\n",
      "143             2.50\n",
      "144             2.51\n",
      "145             2.53\n",
      "146             2.55\n",
      "147             2.57\n",
      "148             2.58\n",
      "149             2.60\n",
      "150             2.62\n",
      "151             2.64\n",
      "152             2.65\n",
      "153             2.67\n",
      "154             2.69\n",
      "155             2.71\n",
      "156             2.72\n",
      "157             2.74\n",
      "158             2.76\n",
      "159             2.78\n",
      "160             2.79\n",
      "161             2.81\n",
      "162             2.83\n",
      "163             2.84\n",
      "164             2.86\n",
      "165             2.88\n",
      "166             2.90\n",
      "167             2.91\n",
      "168             2.93\n",
      "169             2.95\n",
      "170             2.97\n",
      "171             2.98\n",
      "172             3.00\n",
      "173             3.02\n",
      "174             3.04\n",
      "175             3.05\n",
      "176             3.07\n",
      "177             3.09\n",
      "178             3.11\n",
      "179             3.12\n",
      "180             3.14\n"
     ]
    }
   ],
   "source": [
    "import math  # usare math.pi\n",
    "\n",
    "# Definizione della funzione\n",
    "def radians(degree):\n",
    "    \"\"\"Restituisce il valore in radianti dato un angolo in gradi.\"\"\"\n",
    "    return degree * math.pi / 180\n",
    "\n",
    "\n",
    "# Stampa dell’intestazione della tabella\n",
    "print(f\"{'Degrees':<10}{'Radians':>10}\")\n",
    "print(\"-\" * 20)  # linea di separazione estetica\n",
    "\n",
    "\n",
    "# 3️⃣ Ciclo sui gradi da 1 a 180\n",
    "for deg in range(1, 181):\n",
    "    rad = radians(deg)  # calcolo il valore in radianti\n",
    "    # stampo ogni riga con allineamento e due cifre decimali\n",
    "    print(f\"{deg:<10}{rad:>10.2f}\")"
   ]
  },
  {
   "cell_type": "markdown",
   "metadata": {
    "id": "ebFt18GzMh4M"
   },
   "source": [
    "4.10 (Play the Multiplication Game) Write a script that lets the user play a multiplication game. To begin, the game randomly selects two numbers between 1 and 10. It displays the selected numbers and asks the player for the product of both numbers. If the player answers correctly, they are asked if they want to play again. This cycle is continued until the player makes a mistake or stops the game."
   ]
  },
  {
   "cell_type": "code",
   "execution_count": 4,
   "metadata": {
    "id": "0f73TVNdMj6K"
   },
   "outputs": [
    {
     "name": "stdin",
     "output_type": "stream",
     "text": [
      "Domanda: quanto fa 3 * 10? 33\n"
     ]
    },
    {
     "name": "stdout",
     "output_type": "stream",
     "text": [
      "Risposta sbagliata!\n"
     ]
    }
   ],
   "source": [
    "import random\n",
    "while True:\n",
    "    num1 = random.randint(1,10)\n",
    "    num2 = random.randint(1,10)\n",
    "    risultato = int(input(f\"Domanda: quanto fa {num1} * {num2}?\"))\n",
    "\n",
    "    if risultato == num1 * num2:\n",
    "        print(\"Complimenti hai indovinato!\")\n",
    "    else:\n",
    "        print(\"Risposta sbagliata!\")\n",
    "        break\n",
    "\n",
    "    scelta = input(\"Vuoi giocare di nuovo? (s/n)\").lower()\n",
    "    if scelta != \"s\":\n",
    "        break\n",
    "    "
   ]
  },
  {
   "cell_type": "markdown",
   "metadata": {
    "id": "OEyIUZcaMktV"
   },
   "source": [
    "4.13 (Arbitrary Argument List) Calculate the average of a series of integers that are passed to the function average, which receives an arbitrary argument list. Test your function with several calls, each with a different number of arguments."
   ]
  },
  {
   "cell_type": "code",
   "execution_count": 6,
   "metadata": {
    "id": "5YcNMIfYMm8j"
   },
   "outputs": [
    {
     "name": "stdout",
     "output_type": "stream",
     "text": [
      "2.0\n",
      "5.125\n",
      "0\n"
     ]
    }
   ],
   "source": [
    "def average(*args):\n",
    "    if len(args) ==0:\n",
    "        return 0\n",
    "    else:\n",
    "        return sum(args) / len(args)\n",
    "\n",
    "print(average(1,3,2))\n",
    "print(average(1,3,2,5,6,7,8,9))\n",
    "print(average())"
   ]
  },
  {
   "cell_type": "markdown",
   "metadata": {
    "id": "jJdubmZ9M-Ib"
   },
   "source": [
    "5.16 (Sorting User IDs) For each new user, a system generates a user ID consisting of a randomly chosen letter and two random numbers. Write a script that randomly generates a list containing 8000 userIDs using random letters from the range \"a\" through \"f\" and numbers from the range 1 to 4. Subsequently, remove all duplicate entries from the list and sort this list in descending order."
   ]
  },
  {
   "cell_type": "code",
   "execution_count": 7,
   "metadata": {
    "id": "atTKBPGANB5i"
   },
   "outputs": [
    {
     "name": "stdout",
     "output_type": "stream",
     "text": [
      "Totale generati: 8000\n",
      "Dopo rimozione duplicati: 96\n",
      "Primi 10 ID: ['f44', 'f43', 'f42', 'f41', 'f34', 'f33', 'f32', 'f31', 'f24', 'f23']\n"
     ]
    }
   ],
   "source": [
    "import random\n",
    "\n",
    "# Genera 8000 ID casuali con lettera da 'a' a 'f' e due numeri da 1 a 4\n",
    "ids = [f\"{random.choice('abcdef')}{random.randint(1,4)}{random.randint(1,4)}\"\n",
    "       for _ in range(8000)]\n",
    "\n",
    "# Rimuove duplicati convertendo in set\n",
    "ids_unique = list(set(ids))\n",
    "\n",
    "# Ordina in ordine decrescente\n",
    "ids_unique.sort(reverse=True)\n",
    "\n",
    "# Controllo dei risultati\n",
    "print(f\"Totale generati: {len(ids)}\")\n",
    "print(f\"Dopo rimozione duplicati: {len(ids_unique)}\")\n",
    "print(\"Primi 10 ID:\", ids_unique[:10])"
   ]
  },
  {
   "cell_type": "markdown",
   "metadata": {
    "id": "o25GoaDKNEJJ"
   },
   "source": [
    "5.19 (Finding the People with a Specified Last Name) Create a list of tuples containing first and last names. Use filter to locate the tuples containing the last name Jones. Ensure that several tuples in your list have that last name."
   ]
  },
  {
   "cell_type": "code",
   "execution_count": 15,
   "metadata": {
    "id": "CfSCobGANE4d"
   },
   "outputs": [
    {
     "name": "stdout",
     "output_type": "stream",
     "text": [
      "[('michele', 'porretta'), ('giulia', 'porretta'), ('michele', 'porretta'), ('michele', 'porretta'), ('giuseppe', 'porretta')]\n"
     ]
    }
   ],
   "source": [
    "import random\n",
    "\n",
    "nomi = [ \"angelo\", \"michele\", \"giuseppe\", \"marco\", \"giulia\", \"lucia\"]\n",
    "cognomi = [\"pascale\", \"porretta\", \"picella\"]\n",
    "mylist = [(f\"{random.choice(nomi)}\",f\"{random.choice(cognomi)}\") for _ in range(20) ]\n",
    "\n",
    "porrettas = list(filter(lambda persona: persona[1]==\"porretta\", mylist))\n",
    "print(porrettas)\n",
    "\n"
   ]
  },
  {
   "cell_type": "markdown",
   "metadata": {
    "id": "D4JOJhLANIJQ"
   },
   "source": [
    "5.24 (Card Shuffling and Dealing) In Exercises 5.24 through 5.26, you'll use lists of tuples in scripts that simulate card shuffling and dealing. Each tuple represents one card in the deck and contains a face (e.g., 'Ace', 'Deuce', 'Three', ..., 'Jack', 'Queen', 'King') and a suit (e.g., 'Hearts', 'Diamonds', 'Clubs', 'Spades'). Create an initialize_deck function to initialize the deck of card tuples with 'Ace' through 'King' of each suit, as in\n",
    "\n",
    "deck = [('Ace', 'Hearts'), ..., ('King', 'Hearts'), ('Ace', 'Diamonds'), ..., ('King', 'Diamonds'), ('Ace', 'Clubs'), ..., ('King', 'Clubs'), ('Ace', 'Spades'), ..., ('King', 'Spades')]\n",
    "\n",
    "Before returning the list, use the random module's shuffle function to randomly order the list elements."
   ]
  },
  {
   "cell_type": "code",
   "execution_count": 1,
   "metadata": {
    "id": "A4LQu0S1NS3_"
   },
   "outputs": [],
   "source": [
    "import random\n",
    "\n",
    "def initialize_deck():\n",
    "    faces = ['Ace', 'Deuce', 'Three', 'Four', 'Five', 'Six',\n",
    "             'Seven', 'Eight', 'Nine', 'Ten', 'Jack', 'Queen', 'King']\n",
    "    suits = ['Hearts', 'Diamonds', 'Clubs', 'Spades']\n",
    "\n",
    "\n",
    "    #generate all the 52 combinations\n",
    "    deck = [(face,suit) for suit in suits for face in faces ]\n",
    "\n",
    "    random.shuffle(deck)\n",
    "\n",
    "    return deck\n",
    "    "
   ]
  },
  {
   "cell_type": "markdown",
   "metadata": {
    "id": "wDLe15a5aJUG"
   },
   "source": [
    "6.5 (Counting Votes) Write a script that uses a dictionary to determine the number of votes received by candidates in an election. The votes are concatenated in a string where each vote is separated from the next by a comma.\n",
    "\n",
    "[Hint: split can take in an argument for the specific delimiter you wish to use in a string.]"
   ]
  },
  {
   "cell_type": "code",
   "execution_count": 9,
   "metadata": {
    "id": "iQA998JFaAVB"
   },
   "outputs": [
    {
     "name": "stdout",
     "output_type": "stream",
     "text": [
      "Anna: 3\n",
      "Marco: 2\n",
      "Lucia: 1\n"
     ]
    }
   ],
   "source": [
    "voti = \"Anna,Marco,Anna,Lucia,Marco,Anna\"\n",
    "lista_voti = voti.split(\",\")\n",
    "\n",
    "conteggi = {}\n",
    "\n",
    "for nome in lista_voti:\n",
    "    conteggi[nome] = conteggi.get(nome,0) + 1\n",
    "\n",
    "for candidato, voti in conteggi.items():\n",
    "    print(f\"{candidato}: {voti}\")\n",
    "\n",
    "\n",
    "    "
   ]
  },
  {
   "cell_type": "markdown",
   "metadata": {
    "id": "0F9L50_RaH_i"
   },
   "source": [
    "6.6 (Duplicate Email Address Removal) Write a function that receives a list of email addresses and displays only the unique addresses. Treat uppercase and lowercase letters the same. The function should use a set to get the unique email addresses from the list.\n",
    "\n",
    "Test your function with several different lists."
   ]
  },
  {
   "cell_type": "code",
   "execution_count": 17,
   "metadata": {
    "collapsed": true,
    "id": "PaYzI9HgaKK8",
    "jupyter": {
     "outputs_hidden": true
    }
   },
   "outputs": [
    {
     "name": "stdout",
     "output_type": "stream",
     "text": [
      "Unique email addresses:\n",
      "test@gmail.com\n",
      "user@yahoo.com\n",
      "Unique email addresses:\n",
      "xyz@gmail.com\n",
      "abc@outlook.com\n",
      "Unique email addresses:\n",
      "b@b.com\n",
      "c@c.com\n",
      "a@a.com\n"
     ]
    }
   ],
   "source": [
    "def unique_emails(email_list):\n",
    "    # convert every email to lower\n",
    "    lowercase_emails = [email.lower() for email in email_list]\n",
    "\n",
    "    unique_set = set(lowercase_emails)\n",
    "    \n",
    "    # mostra gli indirizzi unici\n",
    "    print(\"Unique email addresses:\")\n",
    "    for email in unique_set:\n",
    "        print(email)\n",
    "\n",
    "# Test 1\n",
    "emails1 = [\"Test@Gmail.com\", \"test@gmail.com\", \"user@yahoo.com\", \"User@yahoo.com\"]\n",
    "unique_emails(emails1)\n",
    "\n",
    "# Test 2\n",
    "emails2 = [\"abc@outlook.com\", \"ABC@Outlook.com\", \"xyz@gmail.com\"]\n",
    "unique_emails(emails2)\n",
    "\n",
    "# Test 3\n",
    "emails3 = [\"a@a.com\", \"b@b.com\", \"A@A.COM\", \"B@b.com\", \"c@c.com\"]\n",
    "unique_emails(emails3)"
   ]
  },
  {
   "cell_type": "markdown",
   "metadata": {
    "id": "RJdSJ8ylaTao"
   },
   "source": [
    "6.9 (Dictionary Manipulations) Using the following dictionary, which maps country names to abbreviations:\n",
    "\n",
    "       tlds = {'Canada': 'ca', 'United States': 'us', 'Mexico': 'mx'}\n",
    "Write a script that shows the user a list of dictionary manipulation options to choose from. Based on the choice, the corresponding manipulation is performed, and the result is shown on the screen. The following choices can be made by the user:\n",
    "\n",
    "a) Show the abbreviation of a country chosen by the user.\n",
    "\n",
    "b) Display all key-value pairs in a two-column format.\n",
    "\n",
    "c) Add a new key-value pair to the dictionary or change the value of an existing\n",
    "key-value pair.\n",
    "\n",
    "d) Create a new dictionary with the values of the first dictionary as keys and the\n",
    "keys of the first dictionary as values.\n",
    "\n",
    "e) Convert all the abbreviations in the dictionary to uppercase letters."
   ]
  },
  {
   "cell_type": "code",
   "execution_count": 22,
   "metadata": {
    "collapsed": true,
    "id": "hTG6tJBnasnY",
    "jupyter": {
     "outputs_hidden": true
    }
   },
   "outputs": [
    {
     "name": "stdout",
     "output_type": "stream",
     "text": [
      "\n",
      "Choose an option:\n",
      "a) Show abbreviation of a country\n",
      "b) Display all key-value pairs\n",
      "c) Add or modify a key-value pair\n",
      "d) Invert dictionary (values → keys)\n",
      "e) Convert abbreviations to uppercase\n",
      "0) Exit\n"
     ]
    },
    {
     "name": "stdin",
     "output_type": "stream",
     "text": [
      "Insert your choice:  0\n"
     ]
    },
    {
     "name": "stdout",
     "output_type": "stream",
     "text": [
      "Exiting program...\n"
     ]
    }
   ],
   "source": [
    "import sys\n",
    "\n",
    "# Dizionario iniziale\n",
    "tlds = {'Canada': 'ca', 'United States': 'us', 'Mexico': 'mx'}\n",
    "\n",
    "# a) Mostra abbreviazione di un paese scelto\n",
    "def a(country):\n",
    "    if country in tlds:\n",
    "        print(f\"{country}: {tlds.get(country)}\")\n",
    "    else:\n",
    "        print(\"Country not found.\")\n",
    "\n",
    "# b) Mostra tutte le coppie chiave-valore in due colonne\n",
    "def b():\n",
    "    print(f\"{'Country':<15}{'Abbreviation':>15}\")\n",
    "    print(\"-\" * 30)\n",
    "    for country, abbreviation in tlds.items():\n",
    "        print(f\"{country:<15}{abbreviation:>15}\")\n",
    "\n",
    "# c) Aggiunge o modifica una coppia\n",
    "def c(key, value):\n",
    "    tlds[key] = value\n",
    "    print(f\"Updated: {key} → {value}\")\n",
    "\n",
    "# d) Crea un nuovo dizionario invertendo chiavi e valori\n",
    "def d():\n",
    "    new_dict = {value: key for key, value in tlds.items()}\n",
    "    print(\"New dictionary (inverted):\")\n",
    "    print(new_dict)\n",
    "\n",
    "# e) Converte tutte le abbreviazioni in maiuscolo\n",
    "def e():\n",
    "    for key in tlds:\n",
    "        tlds[key] = tlds[key].upper()\n",
    "    print(\"All abbreviations converted to uppercase.\")\n",
    "\n",
    "# Funzione di scelta con match-case\n",
    "def switch_case(arg):\n",
    "    match arg:\n",
    "        case 'a':\n",
    "            country = input(\"Enter a country name: \")\n",
    "            a(country)\n",
    "        case 'b':\n",
    "            b()\n",
    "        case 'c':\n",
    "            key = input(\"Enter the country name to add or modify: \")\n",
    "            value = input(\"Enter the abbreviation: \")\n",
    "            c(key, value)\n",
    "        case 'd':\n",
    "            d()\n",
    "        case 'e':\n",
    "            e()\n",
    "        case '0':\n",
    "            print(\"Exiting program...\")\n",
    "            return False            \n",
    "        case _:\n",
    "            print(\"Invalid option. Try again.\")\n",
    "    return True\n",
    "\n",
    "\n",
    "\n",
    "running = True\n",
    "# Ciclo principale\n",
    "while running:\n",
    "    print(\"\\nChoose an option:\")\n",
    "    print(\"a) Show abbreviation of a country\")\n",
    "    print(\"b) Display all key-value pairs\")\n",
    "    print(\"c) Add or modify a key-value pair\")\n",
    "    print(\"d) Invert dictionary (values → keys)\")\n",
    "    print(\"e) Convert abbreviations to uppercase\")\n",
    "    print(\"0) Exit\")\n",
    "\n",
    "    choice = input(\"Insert your choice: \").lower()\n",
    "    running = switch_case(choice)\n"
   ]
  },
  {
   "cell_type": "markdown",
   "metadata": {
    "id": "7qRXJZtoavJ4"
   },
   "source": [
    "9.1 (Class Average: Writing Grades to a Plain Text File) Figure 3.2 presented a class average script in which you could enter any number of grades followed by a sentinel value, then calculate the class average. Another approach would be to read the grades from a file.\n",
    "\n",
    "Write code that enables you to store any number of grades into a grades.txt plain text file."
   ]
  },
  {
   "cell_type": "code",
   "execution_count": 25,
   "metadata": {
    "id": "wyp9bAkhayiD"
   },
   "outputs": [
    {
     "name": "stdout",
     "output_type": "stream",
     "text": [
      "Enter student grades(type 'done' to finish):\n"
     ]
    },
    {
     "name": "stdin",
     "output_type": "stream",
     "text": [
      "Enter grade:  29\n",
      "Enter grade:  30\n",
      "Enter grade:  27.5\n",
      "Enter grade:  27,5\n"
     ]
    },
    {
     "name": "stdout",
     "output_type": "stream",
     "text": [
      "Invalid input. Please enter a number or 'done' to quit.\n"
     ]
    },
    {
     "name": "stdin",
     "output_type": "stream",
     "text": [
      "Enter grade:  done\n"
     ]
    },
    {
     "name": "stdout",
     "output_type": "stream",
     "text": [
      "Grades saved successfully in grades.txt\n"
     ]
    }
   ],
   "source": [
    "with open(\"grades.txt\", \"a\") as file: #append mode => we append to the bottome new grades\n",
    "    print(\"Enter student grades(type 'done' to finish):\")\n",
    "\n",
    "    while True:\n",
    "            grade = input(\"Enter grade: \")\n",
    "\n",
    "            if grade.lower() == \"done\":\n",
    "                print(\"Grades saved successfully in grades.txt\")\n",
    "                break\n",
    "\n",
    "            if grade.replace('.', '', 1).isdigit():\n",
    "                file.write(grade + \"\\n\")\n",
    "            else:\n",
    "                print(\"Invalid input. Please enter a number or 'done' to quit.\")\n",
    "            "
   ]
  },
  {
   "cell_type": "markdown",
   "metadata": {
    "id": "MVtQ8MzQa08H"
   },
   "source": [
    "9.2 (Class Average: Reading Grades from a Plain Text File) Write code that reads the grades from the grades.txt file you created in the previous exercise.\n",
    "\n",
    "Display the individual grades and their total, count and average."
   ]
  },
  {
   "cell_type": "code",
   "execution_count": 23,
   "metadata": {
    "id": "SA971yQDa5WP"
   },
   "outputs": [
    {
     "name": "stdout",
     "output_type": "stream",
     "text": [
      "Individual grades:\n",
      "----------\n",
      "29.00\n",
      "30.00\n",
      "27.50\n",
      "\n",
      "Summary\n",
      "total:         86.50\n",
      "average:       28.83\n",
      "count:          3.00\n"
     ]
    }
   ],
   "source": [
    "total = 0\n",
    "count = 0\n",
    "\n",
    "with open(\"grades.txt\", \"r\") as file:\n",
    "    print(f\"Individual grades:\")\n",
    "    print(\"-\" * 10)\n",
    "    \n",
    "    for line in file:\n",
    "        grade = float(line.strip())\n",
    "        total += grade\n",
    "        count +=1\n",
    "        print(f\"{grade:.2f}\")\n",
    "    average = total / count if count > 0 else 0\n",
    "\n",
    "    print(\"\\nSummary\")\n",
    "    print(f\"{'total:':<10}{total:>10.2f}\")\n",
    "    print(f\"{'average:':<10}{average:>10.2f}\")\n",
    "    print(f\"{'count:':<10}{count:>10.2f}\")\n",
    "            \n",
    "    \n",
    "    \n",
    "    "
   ]
  },
  {
   "cell_type": "markdown",
   "metadata": {
    "id": "arkihqXya6lJ"
   },
   "source": [
    "9.3 (Class Average: Writing Student Records to a CSV File) An instructor teaches a class in which each student takes three exams. The instructor would like to store this information in a file named grades.csv for later use. Write code that enables an instructor to enter each student's first name and last name as strings and the student's three exam grades as integers.\n",
    "\n",
    "Use the csv module to write each record into the grades.csv file. Each record should be a single line of text in the following CSV format:\n",
    "firstname,lastname,exam1grade,exam2grade,exam3grade"
   ]
  },
  {
   "cell_type": "code",
   "execution_count": 13,
   "metadata": {
    "id": "IjqgpzQ4a-Ie"
   },
   "outputs": [
    {
     "name": "stdin",
     "output_type": "stream",
     "text": [
      "insert data to store in CSV file: firstname,lastname,exam1grade,exam2grade,exam3grade (0 to stop):  michele,pascale,18,19,20\n",
      "insert data to store in CSV file: firstname,lastname,exam1grade,exam2grade,exam3grade (0 to stop):  0\n"
     ]
    },
    {
     "name": "stdout",
     "output_type": "stream",
     "text": [
      "✅ File CSV creato correttamente!\n"
     ]
    }
   ],
   "source": [
    "import csv\n",
    "\n",
    "running = True\n",
    "\n",
    "with open(\"grades.csv\", mode=\"w\", newline=\"\") as file:\n",
    "    writer = csv.writer(file)\n",
    "    writer.writerow([\"Firstname\", \"Lastname\", \"Exam1\", \"Exam2\", \"Exam3\"])  # intestazione\n",
    "\n",
    "    while running:\n",
    "        data = input(\"insert data to store in CSV file: firstname,lastname,exam1grade,exam2grade,exam3grade (0 to stop): \")\n",
    "        if data == '0':\n",
    "            running = False\n",
    "        else:\n",
    "            writer.writerow(data.split(\",\"))\n",
    "\n",
    "print(\"✅ File CSV creato correttamente!\")\n"
   ]
  },
  {
   "cell_type": "markdown",
   "metadata": {
    "id": "tgtUqy8KbD8i"
   },
   "source": [
    "9.4 (Class Average: Reading Student Records from a CSV File) Use the csv module to read the grades.csv file from the previous exercise.\n",
    "\n",
    "Display the data in tabular format."
   ]
  },
  {
   "cell_type": "code",
   "execution_count": 33,
   "metadata": {
    "id": "CV8B1UXYbE9W"
   },
   "outputs": [
    {
     "name": "stdout",
     "output_type": "stream",
     "text": [
      "Firstname Lastname     Exam1          Exam2               Exam3\n",
      "angelo    gulotta        20             22                  23\n"
     ]
    }
   ],
   "source": [
    "import csv\n",
    "\n",
    "with open(\"grades.csv\", mode=\"r\", newline=\"\") as file:\n",
    "    reader = csv.reader(file)\n",
    "    for row in reader:\n",
    "        name, lastname, ex1, ex2, ex3 = row\n",
    "        print(f\"{name:<10}{lastname:>5}{ex1:>10}{ex2:>15}{ex3:>20}\")"
   ]
  },
  {
   "cell_type": "markdown",
   "metadata": {
    "id": "YBRaKRtObIAd"
   },
   "source": [
    "9.5 (Class Average: Creating a Grade Report from a CSV File) Modify your solution to the preceding exercise to create a grade report that displays each student's average to the right of that student's row and the class average for each exam below that exam's column."
   ]
  },
  {
   "cell_type": "code",
   "execution_count": 27,
   "metadata": {
    "id": "jEHnipS6bL87"
   },
   "outputs": [
    {
     "name": "stdout",
     "output_type": "stream",
     "text": [
      "name      lastname         ex1            ex2                 ex3                  average\n",
      "****************************************************************************************************\n",
      "michele   pascale        18.00          19.00               20.00                    19.00\n",
      "--------------------------------------------------------------\n",
      "Class average:     18.00          19.00               20.00\n"
     ]
    }
   ],
   "source": [
    "import csv\n",
    "\n",
    "with open(\"grades.csv\", mode=\"r\", newline=\"\") as file:\n",
    "    reader = csv.reader(file)\n",
    "\n",
    "    tot_ex1 = 0\n",
    "    tot_ex2 = 0\n",
    "    tot_ex3 = 0\n",
    "    student_count=0\n",
    "\n",
    "    #salto la riga di intestazione\n",
    "    try:\n",
    "        next(reader)\n",
    "    except StopIteration:\n",
    "        print(\"⚠️ Il file è vuoto.\")\n",
    "        exit()\n",
    "\n",
    "    #ciclo su ogni riga\n",
    "\n",
    "    print(f\"{'name':<10}{'lastname':<10}{'ex1':>10}{'ex2':>15}{'ex3':>20}{'average':>25}\")\n",
    "    print(\"*\" * 100)\n",
    "    \n",
    "    for row in reader:\n",
    "        name, lastname, ex1, ex2, ex3 = row\n",
    "        ex1 = float(ex1)\n",
    "        ex2 = float(ex2)\n",
    "        ex3 = float(ex3)\n",
    "\n",
    "        average = (ex1+ex2+ex3)/3\n",
    "        print(f\"{name:<10}{lastname:<10}{ex1:>10.2f}{ex2:>15.2f}{ex3:>20.2f}{average:>25.2f}\")\n",
    "\n",
    "        #accumulo per le medie di classe\n",
    "        tot_ex1 += ex1\n",
    "        tot_ex2 += ex2\n",
    "        tot_ex3 += ex3\n",
    "        student_count +=1\n",
    "\n",
    "    class_avg1 = tot_ex1 / student_count\n",
    "    class_avg2 = tot_ex2 / student_count\n",
    "    class_avg3 = tot_ex3 / student_count\n",
    "\n",
    "    print(\"-\" * 62)\n",
    "\n",
    "    print(f\"{'Class average:':<10}{class_avg1:>10.2f}{class_avg2:>15.2f}{class_avg3:>20.2f}\")\n",
    "        \n",
    "        \n",
    "    "
   ]
  },
  {
   "cell_type": "markdown",
   "metadata": {
    "id": "Ll8Fp_H6bMuW"
   },
   "source": [
    "9.6 (Class Average: Writing a Gradebook Dictionary to a JSON File) Reimplement Exercise 9.3 using the json module to write the student information to the file in JSON format. For this exercise, create a dictionary of student data in the following format:\n",
    "\n",
    "gradebook_dict = {'students': [student1dictionary, student2dictionary, ...]}\n",
    "\n",
    "Each dictionary in the list represents one student and contains the keys 'first_name', 'last_name', 'exam1', 'exam2' and 'exam3', which map to the values representing each student's first name (string), last name (string) and three exam scores (integers).\n",
    "\n",
    "Output the gradebook_dict in JSON format to the file grades.json."
   ]
  },
  {
   "cell_type": "code",
   "execution_count": 30,
   "metadata": {
    "id": "yCuM7eXQbX2L"
   },
   "outputs": [
    {
     "name": "stdin",
     "output_type": "stream",
     "text": [
      "Insert data to store in JSON file (firstname,lastname,exam1,exam2,exam3) or 0 to stop:  angelo, gulotta, 22, 30, 28\n",
      "Insert data to store in JSON file (firstname,lastname,exam1,exam2,exam3) or 0 to stop:  0\n"
     ]
    },
    {
     "name": "stdout",
     "output_type": "stream",
     "text": [
      "✅ Dati salvati in grades.json\n"
     ]
    }
   ],
   "source": [
    "import json\n",
    "\n",
    "gradebook_dict = {'students': []}\n",
    "running = True\n",
    "index = 1  # contatore studenti\n",
    "\n",
    "while running:\n",
    "    data = input(\"Insert data to store in JSON file (firstname,lastname,exam1,exam2,exam3) or 0 to stop: \")\n",
    "\n",
    "    if data == '0':\n",
    "        running = False\n",
    "    else:\n",
    "        first_name, last_name, exam1, exam2, exam3 = data.split(\",\")\n",
    "        student = {\n",
    "            'id': index,\n",
    "            'firstname': first_name.strip(),\n",
    "            'lastname': last_name.strip(),\n",
    "            'exam1': float(exam1),\n",
    "            'exam2': float(exam2),\n",
    "            'exam3': float(exam3)\n",
    "        }\n",
    "        gradebook_dict['students'].append(student)\n",
    "        index += 1\n",
    "\n",
    "# Scrive su file solo alla fine\n",
    "with open('grades.json', 'w') as file:\n",
    "    json.dump(gradebook_dict, file, indent=4)\n",
    "\n",
    "print(\"✅ Dati salvati in grades.json\")\n"
   ]
  },
  {
   "cell_type": "markdown",
   "metadata": {
    "id": "D8mOtU41baj2"
   },
   "source": [
    "9.7 (Class Average: Reading a Gradebook Dictionary from a JSON File) Reimplement Exercise 9.4 using the json module to read the grades.json file created in the previous exercise.\n",
    "\n",
    "Display the data in tabular format, including an additional column showing each student's average to the right of that student's three exam grades and an additional row showing the class average on each exam below that exam's column."
   ]
  },
  {
   "cell_type": "code",
   "execution_count": 42,
   "metadata": {
    "id": "CfuvKTK3biE0"
   },
   "outputs": [
    {
     "name": "stdout",
     "output_type": "stream",
     "text": [
      "Name        Lastname         Exam1     Exam2     Exam3     Average\n",
      "******************************************************************\n",
      "angelo      gulotta          22.00     30.00     28.00       26.67\n",
      "------------------------------------------------------------------\n",
      "Class average:               22.00     30.00     28.00\n"
     ]
    }
   ],
   "source": [
    "import json\n",
    "\n",
    "tot_ex1 = tot_ex2 = tot_ex3 = 0\n",
    "student_count = 0\n",
    "\n",
    "with open(\"grades.json\", \"r\") as file:\n",
    "    data = json.load(file)\n",
    "    students = data[\"students\"]\n",
    "\n",
    "# intestazione\n",
    "print(f\"{'Name':<12}{'Lastname':<12}{'Exam1':>10}{'Exam2':>10}{'Exam3':>10}{'Average':>12}\")\n",
    "print(\"*\" * 66)\n",
    "\n",
    "for student in students:\n",
    "    firstname = student[\"firstname\"]\n",
    "    lastname = student[\"lastname\"]\n",
    "    ex1 = student[\"exam1\"]\n",
    "    ex2 = student[\"exam2\"]\n",
    "    ex3 = student[\"exam3\"]\n",
    "\n",
    "    average = (ex1 + ex2 + ex3) / 3\n",
    "    student_count += 1\n",
    "\n",
    "    print(f\"{firstname:<12}{lastname:<12}{ex1:>10.2f}{ex2:>10.2f}{ex3:>10.2f}{average:>12.2f}\")\n",
    "\n",
    "    tot_ex1 += ex1\n",
    "    tot_ex2 += ex2\n",
    "    tot_ex3 += ex3\n",
    "\n",
    "# medie di classe\n",
    "class_avg1 = tot_ex1 / student_count\n",
    "class_avg2 = tot_ex2 / student_count\n",
    "class_avg3 = tot_ex3 / student_count\n",
    "\n",
    "print(\"-\" * 66)\n",
    "print(f\"{'Class average:':<24}{class_avg1:>10.2f}{class_avg2:>10.2f}{class_avg3:>10.2f}\")\n"
   ]
  },
  {
   "cell_type": "markdown",
   "metadata": {
    "id": "5DQPxOi0biyZ"
   },
   "source": [
    "9.10 (Project: Analyzing a Book from Project Gutenberg) A great source of plain text files is the collection of over 57,000 free e-books at Project Gutenberg:\n",
    "\n",
    "       https://www.gutenberg.org\n",
    "Download the text-file version of Pride and Prejudice from Project Gutenberg https://www.gutenberg.org/ebooks/1342\n",
    "Create a script that reads Pride and Prejudice from a text file. Produce statistics about the book, including the total word count, the average word length, a word distribution containing frequency counts of all words, and the top 10 longest words.\n",
    "\n",
    "Each Project Gutenberg e-book begins and ends with some additional text, such as licensing information, which is not part of the e-book itself. You may want to remove that text from your copy of the book before analyzing its text."
   ]
  },
  {
   "cell_type": "code",
   "execution_count": 57,
   "metadata": {
    "id": "m1Vbyhywbutq"
   },
   "outputs": [
    {
     "name": "stdout",
     "output_type": "stream",
     "text": [
      "Total word count:             66760\n",
      "Average word length:           4.46\n",
      "10 longest words:        ['charactercreationmasterpieces', 'seventiesindependently', 'understandingthough', 'povertycomparative', 'gracesappreciably', 'qualitydemureness', 'eighteenthcentury', 'fordycebelectured', 'agreeableallowing', 'disinterestedness']\n"
     ]
    }
   ],
   "source": [
    "import re\n",
    "\n",
    "with open(\"Pride_and_prejudice.txt\", \"r\", encoding=\"utf-8\") as f:\n",
    "    text = f.read()\n",
    "    text = text.lower()\n",
    "    text = re.sub(r'[^a-z\\s]', '', text)\n",
    "    text = text.split()\n",
    "\n",
    "statistics = {}\n",
    "total = 0\n",
    "average = 0\n",
    "total_words = len(text)\n",
    "\n",
    "for word in text:\n",
    "    if word in statistics:\n",
    "        statistics[word] += 1\n",
    "    else:\n",
    "        statistics[word] = 1\n",
    "    total += len(word)\n",
    "\n",
    "average_length = total / total_words\n",
    "longest_words = sorted(statistics.keys(), key=len, reverse=True)[:10]\n",
    "print(f\"{'Total word count:':<25}{total_words:>10}\")\n",
    "print(f\"{'Average word length:':<25}{average_length:>10.2f}\")\n",
    "print(f\"{'10 longest words:':<25}{longest_words}\")"
   ]
  },
  {
   "cell_type": "markdown",
   "metadata": {
    "id": "stx_7v6UbvPo"
   },
   "source": [
    "9.11 (Project: Visualizing Word Frequencies with a Word Cloud) A word cloud visual- izes words, displaying more frequently occurring words in larger fonts. In this exercise, you'll create a word cloud that visualizes the top 200 words in Pride and Prejudice. You'll use the open-source wordcloud module's WordCloud class to generate a word cloud with just a few lines of code.\n",
    "\n",
    "       from wordcloud import WordCloud\n",
    "       wordcloud = WordCloud(colormap='prism', background_color='white')\n",
    "Using the techniques from the previous exercise, create a frequencies dictionary containing the frequencies of the top-200 words in Pride and Prejudice. Then execute the following statements to generate a rectangular word cloud and save its image to a file on disk:\n",
    "\n",
    "       wordcloud = wordcloud.fit_words(frequencies)\n",
    "       wordcloud = wordcloud.to_file('PrideAndPrejudice.png')\n"
   ]
  },
  {
   "cell_type": "code",
   "execution_count": 61,
   "metadata": {},
   "outputs": [
    {
     "name": "stdout",
     "output_type": "stream",
     "text": [
      "Requirement already satisfied: wordcloud in c:\\users\\1234r\\anaconda3\\envs\\bigdata\\lib\\site-packages (1.9.4)\n",
      "Requirement already satisfied: numpy>=1.6.1 in c:\\users\\1234r\\anaconda3\\envs\\bigdata\\lib\\site-packages (from wordcloud) (2.0.1)\n",
      "Requirement already satisfied: pillow in c:\\users\\1234r\\anaconda3\\envs\\bigdata\\lib\\site-packages (from wordcloud) (11.1.0)\n",
      "Requirement already satisfied: matplotlib in c:\\users\\1234r\\anaconda3\\envs\\bigdata\\lib\\site-packages (from wordcloud) (3.10.6)\n",
      "Requirement already satisfied: contourpy>=1.0.1 in c:\\users\\1234r\\anaconda3\\envs\\bigdata\\lib\\site-packages (from matplotlib->wordcloud) (1.3.1)\n",
      "Requirement already satisfied: cycler>=0.10 in c:\\users\\1234r\\anaconda3\\envs\\bigdata\\lib\\site-packages (from matplotlib->wordcloud) (0.11.0)\n",
      "Requirement already satisfied: fonttools>=4.22.0 in c:\\users\\1234r\\anaconda3\\envs\\bigdata\\lib\\site-packages (from matplotlib->wordcloud) (4.60.1)\n",
      "Requirement already satisfied: kiwisolver>=1.3.1 in c:\\users\\1234r\\anaconda3\\envs\\bigdata\\lib\\site-packages (from matplotlib->wordcloud) (1.4.8)\n",
      "Requirement already satisfied: packaging>=20.0 in c:\\users\\1234r\\anaconda3\\envs\\bigdata\\lib\\site-packages (from matplotlib->wordcloud) (25.0)\n",
      "Requirement already satisfied: pyparsing>=2.3.1 in c:\\users\\1234r\\anaconda3\\envs\\bigdata\\lib\\site-packages (from matplotlib->wordcloud) (3.2.0)\n",
      "Requirement already satisfied: python-dateutil>=2.7 in c:\\users\\1234r\\anaconda3\\envs\\bigdata\\lib\\site-packages (from matplotlib->wordcloud) (2.9.0.post0)\n",
      "Requirement already satisfied: six>=1.5 in c:\\users\\1234r\\anaconda3\\envs\\bigdata\\lib\\site-packages (from python-dateutil>=2.7->matplotlib->wordcloud) (1.17.0)\n"
     ]
    }
   ],
   "source": [
    "!pip install wordcloud"
   ]
  },
  {
   "cell_type": "code",
   "execution_count": 62,
   "metadata": {
    "id": "RvUTWFq1b3Ta",
    "scrolled": true
   },
   "outputs": [
    {
     "data": {
      "text/plain": [
       "<wordcloud.wordcloud.WordCloud at 0x17245cdc190>"
      ]
     },
     "execution_count": 62,
     "metadata": {},
     "output_type": "execute_result"
    }
   ],
   "source": [
    "from wordcloud import WordCloud\n",
    "import re\n",
    "\n",
    "statistics = {}\n",
    "\n",
    "with open(\"Pride_and_prejudice.txt\", \"r\", encoding=\"utf-8\") as f:\n",
    "    text = f.read()\n",
    "    text = text.lower()\n",
    "    text = re.sub(r'[^a-z\\s]', '', text)\n",
    "    text = text.split()\n",
    "\n",
    "    for word in text:\n",
    "        if word in statistics:\n",
    "            statistics[word] += 1\n",
    "        else:\n",
    "            statistics[word] = 1\n",
    "\n",
    "frequencies = dict(sorted(statistics.items(), key=lambda x: x[1], reverse=True)[:200])\n",
    "        \n",
    "wordcloud = WordCloud(colormap='prism', background_color='white')\n",
    "wordcloud = wordcloud.fit_words(frequencies)\n",
    "wordcloud.to_file('PrideAndPrejudice.png')"
   ]
  }
 ],
 "metadata": {
  "colab": {
   "provenance": []
  },
  "kernelspec": {
   "display_name": "Python 3 (ipykernel)",
   "language": "python",
   "name": "python3"
  },
  "language_info": {
   "codemirror_mode": {
    "name": "ipython",
    "version": 3
   },
   "file_extension": ".py",
   "mimetype": "text/x-python",
   "name": "python",
   "nbconvert_exporter": "python",
   "pygments_lexer": "ipython3",
   "version": "3.11.13"
  }
 },
 "nbformat": 4,
 "nbformat_minor": 4
}
